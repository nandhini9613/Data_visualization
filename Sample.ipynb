{
 "cells": [
  {
   "cell_type": "markdown",
   "id": "f81e6f64",
   "metadata": {},
   "source": [
    "#### Since the user requested a ready-to-use sample visualization file,\n",
    "#### I will create a simple dataset, generate visualizations, and save them into an Excel file."
   ]
  },
  {
   "cell_type": "code",
   "execution_count": null,
   "id": "80fe85d3",
   "metadata": {},
   "outputs": [],
   "source": [
    "import pandas as pd\n",
    "import matplotlib.pyplot as plt"
   ]
  },
  {
   "cell_type": "markdown",
   "id": "2263b7a9",
   "metadata": {},
   "source": [
    "#### Step 1: Create sample data"
   ]
  },
  {
   "cell_type": "code",
   "execution_count": 9,
   "id": "b5a8d9f4",
   "metadata": {},
   "outputs": [],
   "source": [
    "data = {\n",
    "    'Category': ['Electronics', 'Clothing', 'Home Decor', 'Books', 'Toys'],\n",
    "    'Sales': [15000, 12000, 8000, 6000, 4000],\n",
    "    'Profit': [3000, 2500, 1200, 800, 600]\n",
    "}\n",
    "\n",
    "df = pd.DataFrame(data)"
   ]
  },
  {
   "cell_type": "markdown",
   "id": "949133ef",
   "metadata": {},
   "source": [
    "#### Step 2: Save the raw data into an Excel file"
   ]
  },
  {
   "cell_type": "code",
   "execution_count": 3,
   "id": "6658521e",
   "metadata": {},
   "outputs": [
    {
     "name": "stderr",
     "output_type": "stream",
     "text": [
      "<>:1: SyntaxWarning: invalid escape sequence '\\D'\n",
      "<>:1: SyntaxWarning: invalid escape sequence '\\D'\n",
      "C:\\Users\\Venkatesh\\AppData\\Local\\Temp\\ipykernel_20656\\3544253525.py:1: SyntaxWarning: invalid escape sequence '\\D'\n",
      "  excel_path = 'C:\\\\Users\\\\Venkatesh\\Desktop\\\\Projects\\\\Data_Visualization\\\\sample_data_visualization.xlsx'\n"
     ]
    }
   ],
   "source": [
    "\n",
    "excel_path = 'C:\\\\Users\\\\Venkatesh\\Desktop\\\\Projects\\\\Data_Visualization\\\\sample_data_visualization.xlsx'\n",
    "with pd.ExcelWriter(excel_path, engine='xlsxwriter') as writer:\n",
    "    df.to_excel(writer, index=False, sheet_name='Data')\n",
    "\n",
    "    workbook = writer.book\n",
    "    worksheet = writer.sheets['Data']"
   ]
  },
  {
   "cell_type": "markdown",
   "id": "14b85123",
   "metadata": {},
   "source": [
    "#### Step 3: Create a chart inside the Excel file"
   ]
  },
  {
   "cell_type": "code",
   "execution_count": 10,
   "id": "dade5ea5",
   "metadata": {},
   "outputs": [],
   "source": [
    "chart = workbook.add_chart({'type': 'column'})"
   ]
  },
  {
   "cell_type": "markdown",
   "id": "94044e58",
   "metadata": {},
   "source": [
    "   #### Configure the chart"
   ]
  },
  {
   "cell_type": "code",
   "execution_count": 12,
   "id": "bf22d918",
   "metadata": {},
   "outputs": [],
   "source": [
    "chart.add_series({\n",
    "        'name': 'Sales',\n",
    "        'categories': '=Data!$A$2:$A$6',\n",
    "        'values': '=Data!$B$2:$B$6',\n",
    "    })\n",
    "chart.add_series({\n",
    "        'name': 'Profit',\n",
    "        'categories': '=Data!$A$2:$A$6',\n",
    "        'values': '=Data!$C$2:$C$6',\n",
    "    })\n",
    "\n",
    "chart.set_title({'name': 'Sales and Profit by Category'})\n",
    "chart.set_x_axis({'name': 'Category'})\n",
    "chart.set_y_axis({'name': 'Amount in USD'})\n",
    "chart.set_style(10)"
   ]
  },
  {
   "cell_type": "markdown",
   "id": "2482ee66",
   "metadata": {},
   "source": [
    "  #### Insert the chart into the worksheet"
   ]
  },
  {
   "cell_type": "code",
   "execution_count": 15,
   "id": "8e16718b",
   "metadata": {},
   "outputs": [
    {
     "data": {
      "text/plain": [
       "'C:\\\\Users\\\\Venkatesh\\\\Desktop\\\\Projects\\\\Data_Visualization\\\\sample_data_visualization.xlsx'"
      ]
     },
     "execution_count": 15,
     "metadata": {},
     "output_type": "execute_result"
    }
   ],
   "source": [
    "worksheet.insert_chart('E2', chart)\n",
    "\n",
    "excel_path  # Provide the path to download the file"
   ]
  }
 ],
 "metadata": {
  "kernelspec": {
   "display_name": "Python 3",
   "language": "python",
   "name": "python3"
  },
  "language_info": {
   "codemirror_mode": {
    "name": "ipython",
    "version": 3
   },
   "file_extension": ".py",
   "mimetype": "text/x-python",
   "name": "python",
   "nbconvert_exporter": "python",
   "pygments_lexer": "ipython3",
   "version": "3.12.6"
  }
 },
 "nbformat": 4,
 "nbformat_minor": 5
}
